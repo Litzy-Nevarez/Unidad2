{
 "cells": [
  {
   "cell_type": "markdown",
   "id": "e31e0bc6",
   "metadata": {},
   "source": [
    "# Práctica de laboratorio: contador SQL de Internet\n",
    "## Nevarez García Litzy Yulissa\n",
    "\n",
    "### Objetivos\n",
    "\n",
    "- Parte 1: Configure su base de datos\n",
    "- Parte 2: Conéctese a la base de datos\n",
    "- Parte 3: Manipule los datos con pandas\n",
    "- Parte 4: Una las tablas con pandas </b>\n",
    "\n",
    "### Aspectos básicos/situación\n",
    "\n",
    "En esta práctica de laboratorio aprenderá cómo conectarse a una base de datos relacional, y a extraer y manipular los datos a través de una computadora portátil de Jupyter. Los datos que se le proporcionan contienen distintas mediciones para la velocidad de ping, carga y descarga en diferentes autoridades locales alrededor de Inglaterra. De momento, los datos se almacenan en un archivo .csv, pero creará una base de datos y la completará con la medición.\n",
    "\n",
    "### Usted podrá:\n",
    "\n",
    "- Trabajar con una base de datos relacional\n",
    "- Configurar SQLite\n",
    "- Crear una nueva base de datos\n",
    "- Utilizar csvsql para crear una nueva tabla y recuperar datos directamente de un archivo csv grande\n",
    "- Conectarse a una base de datos con la biblioteca de Python sqlite3\n",
    "- R- ealizar consultas de SQL básicas mediante Python\n",
    "- Explorar la interacción entre pandas y una base de datos SQL\n",
    "- Combinar dos tablas\n",
    "\n",
    "### Recursos necesarios\n",
    "\n",
    "- 1 computadora con acceso a Internet\n",
    "- Raspberry Pi versión 2 o superior\n",
    "- Bibliotecas de Python: sqlite3, pandas, matplotlib\n",
    "- Bibliotecas adicionales: csvkit\n",
    "- Archivos de datos: LA_wifi_speed_UK.csv, LA_population.csv\n",
    "\n",
    "### Actualización de SQL\n",
    "- Introducción muy breve a las bases de datos relacionales (temporales): http://searchsqlserver.techtarget.com/definition/relational-database</li>\n",
    "\n",
    "- Más videos sobre las bases de datos relacionales: https://www.youtube.com/watch?v=jyju2P-7hPA&list=PLAwxTw4SYaPm4R6j_wzVOCV9fJaiQDYx4</li>\n",
    "\n",
    "- Introducción a SQL: http://www.w3schools.com/sql/sql_intro.asp</li>\n",
    "\n",
    "## Parte 1: Configure su base de datos\n",
    "\n",
    "En esta parte, utilizará SQLite, una biblioteca de procesos que implementa un motor de bases de datos de SQL transaccionales autónomo, sin servidor, sin configuración para configurar el entorno.\n",
    "\n",
    "**Paso 1: Configure el entorno de trabajo.**\n",
    "Necesitaremos sqlite3 y csvkit para completar esta computadora portátil.\n",
    "\n",
    "a) Instale SQLite.\n",
    "En una computadora portátil de Jupyter, se pueden ejecutar los mismos comandos que se usarían en el terminal. Para hacerlo, comience la línea con un signo de exclamación (!).\n",
    "\n",
    "\n"
   ]
  },
  {
   "cell_type": "code",
   "execution_count": 1,
   "id": "c4dd2e13",
   "metadata": {},
   "outputs": [
    {
     "name": "stdout",
     "output_type": "stream",
     "text": [
      "main: C:\\Users\\yulis\\Analitica de los Datos en las organizaciones\\InternetSpeed.db r/w\n"
     ]
    }
   ],
   "source": [
    "# Code Cell 1\n",
    "! sqlite3 InternetSpeed.db \".databases\""
   ]
  },
  {
   "cell_type": "markdown",
   "id": "a749b2e8",
   "metadata": {},
   "source": [
    "#### Este código crea la base de datos en una ventana del terminal. Si está utilizando el terminal, asegúrese de navegar al mismo directorio en el cual reside este laboratorio"
   ]
  },
  {
   "cell_type": "code",
   "execution_count": null,
   "id": "9886d655",
   "metadata": {},
   "outputs": [],
   "source": [
    "# Code Cell 2\n",
    "#Create the InternetSpeed database\n"
   ]
  },
  {
   "cell_type": "markdown",
   "id": "e21481c0",
   "metadata": {},
   "source": [
    "#### b)\tInstale csvkit.\n",
    "\n",
    "Instale csvkit en el terminal:\n",
    "\n",
    "$pip install csvkit\n",
    "\n",
    "También puede permanecer en el entorno de la computadora portátil, como lo hizo anteriormente, agregando el signo de exclamación al comienzo de la línea.\n",
    "\n",
    "El archivo utilizado en esta parte de la práctica de laboratorio se denomina\n",
    "./Data/LA_wifi_speed_UK.csv.\n"
   ]
  },
  {
   "cell_type": "code",
   "execution_count": 3,
   "id": "000f87b6",
   "metadata": {},
   "outputs": [
    {
     "name": "stdout",
     "output_type": "stream",
     "text": [
      "Requirement already satisfied: csvkit in c:\\users\\zara_\\anaconda3\\lib\\site-packages (1.0.7)\n",
      "Requirement already satisfied: agate-sql>=0.5.3 in c:\\users\\zara_\\anaconda3\\lib\\site-packages (from csvkit) (0.5.8)\n",
      "Requirement already satisfied: agate>=1.6.1 in c:\\users\\zara_\\anaconda3\\lib\\site-packages (from csvkit) (1.6.3)\n",
      "Requirement already satisfied: agate-dbf>=0.2.2 in c:\\users\\zara_\\anaconda3\\lib\\site-packages (from csvkit) (0.2.2)\n",
      "Requirement already satisfied: agate-excel>=0.2.2 in c:\\users\\zara_\\anaconda3\\lib\\site-packages (from csvkit) (0.2.5)\n",
      "Requirement already satisfied: six>=1.6.1 in c:\\users\\zara_\\anaconda3\\lib\\site-packages (from csvkit) (1.16.0)\n",
      "Requirement already satisfied: pytimeparse>=1.1.5 in c:\\users\\zara_\\anaconda3\\lib\\site-packages (from agate>=1.6.1->csvkit) (1.1.8)\n",
      "Requirement already satisfied: Babel>=2.0 in c:\\users\\zara_\\anaconda3\\lib\\site-packages (from agate>=1.6.1->csvkit) (2.9.1)\n",
      "Requirement already satisfied: parsedatetime!=2.5,!=2.6,>=2.1 in c:\\users\\zara_\\anaconda3\\lib\\site-packages (from agate>=1.6.1->csvkit) (2.4)\n",
      "Requirement already satisfied: python-slugify>=1.2.1 in c:\\users\\zara_\\anaconda3\\lib\\site-packages (from agate>=1.6.1->csvkit) (5.0.2)\n",
      "Requirement already satisfied: isodate>=0.5.4 in c:\\users\\zara_\\anaconda3\\lib\\site-packages (from agate>=1.6.1->csvkit) (0.6.1)\n",
      "Requirement already satisfied: leather>=0.3.2 in c:\\users\\zara_\\anaconda3\\lib\\site-packages (from agate>=1.6.1->csvkit) (0.3.4)\n",
      "Requirement already satisfied: dbfread>=2.0.5 in c:\\users\\zara_\\anaconda3\\lib\\site-packages (from agate-dbf>=0.2.2->csvkit) (2.0.7)\n",
      "Requirement already satisfied: xlrd>=0.9.4 in c:\\users\\zara_\\anaconda3\\lib\\site-packages (from agate-excel>=0.2.2->csvkit) (2.0.1)\n",
      "Requirement already satisfied: openpyxl>=2.3.0 in c:\\users\\zara_\\anaconda3\\lib\\site-packages (from agate-excel>=0.2.2->csvkit) (3.0.9)\n",
      "Requirement already satisfied: olefile in c:\\users\\zara_\\anaconda3\\lib\\site-packages (from agate-excel>=0.2.2->csvkit) (0.46)\n",
      "Requirement already satisfied: sqlalchemy>=1.0.8 in c:\\users\\zara_\\anaconda3\\lib\\site-packages (from agate-sql>=0.5.3->csvkit) (1.4.32)\n",
      "Requirement already satisfied: pytz>=2015.7 in c:\\users\\zara_\\anaconda3\\lib\\site-packages (from Babel>=2.0->agate>=1.6.1->csvkit) (2021.3)\n",
      "Requirement already satisfied: et-xmlfile in c:\\users\\zara_\\anaconda3\\lib\\site-packages (from openpyxl>=2.3.0->agate-excel>=0.2.2->csvkit) (1.1.0)\n",
      "Requirement already satisfied: future in c:\\users\\zara_\\anaconda3\\lib\\site-packages (from parsedatetime!=2.5,!=2.6,>=2.1->agate>=1.6.1->csvkit) (0.18.2)\n",
      "Requirement already satisfied: text-unidecode>=1.3 in c:\\users\\zara_\\anaconda3\\lib\\site-packages (from python-slugify>=1.2.1->agate>=1.6.1->csvkit) (1.3)\n",
      "Requirement already satisfied: greenlet!=0.4.17 in c:\\users\\zara_\\anaconda3\\lib\\site-packages (from sqlalchemy>=1.0.8->agate-sql>=0.5.3->csvkit) (1.1.1)\n"
     ]
    }
   ],
   "source": [
    "# Code Cell 3\n",
    "#Installing csvkit\n",
    "!pip install csvkit"
   ]
  },
  {
   "cell_type": "code",
   "execution_count": null,
   "id": "07152a80",
   "metadata": {},
   "outputs": [],
   "source": []
  },
  {
   "cell_type": "markdown",
   "id": "86cc5bf6",
   "metadata": {},
   "source": [
    "## Parte 2: Conéctese a la base de datos\n",
    "\n",
    "Python se utiliza para conectarse a la base de datos y ejecutar algunas consultas para saber cómo lucen estos datos.\n",
    "\n",
    "Importe las bibliotecas:"
   ]
  },
  {
   "cell_type": "code",
   "execution_count": 2,
   "id": "5dcb0301",
   "metadata": {},
   "outputs": [],
   "source": [
    "# Code Cell 5\n",
    "# this is the library to talk to the database\n",
    "import sqlite3\n",
    "import pandas as pd\n",
    "# this is a library for data vizualization\n",
    "from matplotlib import pyplot as plt\n",
    "# this is to say that we want our plots to be part of this page, and not opene d in a new window\n",
    "%matplotlib inline"
   ]
  },
  {
   "cell_type": "markdown",
   "id": "cf63dee3",
   "metadata": {},
   "source": [
    "### Paso 1: Conecte y ejecute una consulta.\n",
    "\n",
    "Una conexión abierta y un cursor son necesarios para comunicarse con la base de datos. El cursor es una estructura de control que nos permitirá navegar por las tablas y los registros.\n",
    "\n",
    "Para abrir una conexión, ejecute el método connect de la biblioteca sqlite3. Esta función toma una cadena que contiene el nombre de la base de datos para la cual la conexión es necesaria.\n",
    "\n",
    "En este caso, el comando será:\n",
    "#### a)\tConéctese a la base de datos que acaba de crear, y luego cree un cursor que apunte a la base de datos."
   ]
  },
  {
   "cell_type": "code",
   "execution_count": 3,
   "id": "a4c25b7f",
   "metadata": {},
   "outputs": [],
   "source": [
    "# Code Cell 6\n",
    "# what is the name of the database you want to connect to? \n",
    "conn = sqlite3.connect('InternetSpeed.db')\n",
    "cur = conn.cursor()"
   ]
  },
  {
   "cell_type": "markdown",
   "id": "86c9300a",
   "metadata": {},
   "source": [
    "#### b)\tEjecute una consulta.\n",
    "\n",
    "Seleccione las primeras 10 filas de la columna DateTime.\n",
    "\n",
    "Sugerencia: Si desea revisar el nombre de las tablas en su base de datos, vuelva a la línea de comandos interactiva y utilice este código:\n",
    "\n",
    ".tables\n"
   ]
  },
  {
   "cell_type": "code",
   "execution_count": 4,
   "id": "1acc5911",
   "metadata": {},
   "outputs": [
    {
     "data": {
      "text/plain": [
       "<sqlite3.Cursor at 0x1afcafd3d50>"
      ]
     },
     "execution_count": 4,
     "metadata": {},
     "output_type": "execute_result"
    }
   ],
   "source": [
    "# Code Cell 7\n",
    "# complete the query with the field you want to select, the table you want to select the field from,\n",
    "# and the field you want your results to be ordered by \n",
    "query = 'SELECT DateTime FROM LA_wifi_speed_UK  ORDER BY DateTime LIMIT 10;'\n",
    "\n",
    "\n",
    "cur.execute(query)\n"
   ]
  },
  {
   "cell_type": "markdown",
   "id": "e8fc945b",
   "metadata": {},
   "source": [
    "#### El resultado de la consulta se almacena en cur. Necesitamos iterar sobre ella para ver el resultado."
   ]
  },
  {
   "cell_type": "code",
   "execution_count": 5,
   "id": "88764c2a",
   "metadata": {},
   "outputs": [
    {
     "name": "stdout",
     "output_type": "stream",
     "text": [
      "('2016-11-23 00:00:00',)\n",
      "('2016-11-23 00:30:00',)\n",
      "('2016-11-23 01:00:00',)\n",
      "('2016-11-23 01:30:00',)\n",
      "('2016-11-23 02:00:00',)\n",
      "('2016-11-23 02:30:00',)\n",
      "('2016-11-23 03:00:00',)\n",
      "('2016-11-23 03:30:00',)\n",
      "('2016-11-23 04:00:00',)\n",
      "('2016-11-23 04:30:00',)\n"
     ]
    }
   ],
   "source": [
    "# Code Cell 8\n",
    "for row in cur:\n",
    "    print (row)"
   ]
  },
  {
   "cell_type": "markdown",
   "id": "065b5ec9",
   "metadata": {},
   "source": [
    "#### Nota: Necesitamos ordenar la tabla que contiene la medición según la columna DateTime. Esto es porque SQL no posee un orden intrínseco de las filas, y estamos lidiando con una serie de tiempo, que sin el orden correcto, no tiene sentido. La selección de una muestra aleatoria de filas quitaría el componente temporal:"
   ]
  },
  {
   "cell_type": "code",
   "execution_count": 6,
   "id": "82046c7b",
   "metadata": {},
   "outputs": [
    {
     "name": "stdout",
     "output_type": "stream",
     "text": [
      "('2016-12-12 03:30:00',)\n",
      "('2016-12-13 13:30:00',)\n",
      "('2016-12-07 10:30:00',)\n",
      "('2016-12-09 07:30:00',)\n",
      "('2016-12-03 07:00:00',)\n",
      "('2016-12-06 15:00:00',)\n",
      "('2016-12-09 21:00:00',)\n",
      "('2016-12-05 06:30:00',)\n",
      "('2016-11-27 00:30:00',)\n",
      "('2016-11-25 11:00:00',)\n"
     ]
    }
   ],
   "source": [
    "# Code Cell 9\n",
    "query = 'SELECT DateTime FROM LA_wifi_speed_UK ORDER BY RANDOM() LIMIT 10'\n",
    "cur.execute(query)\n",
    "\n",
    "for row in cur:\n",
    "    print (row)\n"
   ]
  },
  {
   "cell_type": "markdown",
   "id": "b79b182e",
   "metadata": {},
   "source": [
    "### Paso 2: Enfóquese en una porción de los datos.\n",
    "\n",
    "¿Cuáles son los nombres de las 900+ columnas? Es posible recuperarlos automáticamente y guardarlos en una lista. Será práctico para distintas cosas más adelante.\n",
    "\n",
    "En primer lugar, necesitamos ejecutar una consulta sobre todas las columnas. En este caso, no es importante la cantidad de filas que la consulta devuelve, de modo que la limitaremos a 1."
   ]
  },
  {
   "cell_type": "code",
   "execution_count": 7,
   "id": "60d0bdce",
   "metadata": {},
   "outputs": [
    {
     "data": {
      "text/plain": [
       "<sqlite3.Cursor at 0x1afcafd3d50>"
      ]
     },
     "execution_count": 7,
     "metadata": {},
     "output_type": "execute_result"
    }
   ],
   "source": [
    "# Code Cell 10\n",
    "# we need to have a cursor pointing to a table for this operation\n",
    "query = 'SELECT * FROM LA_wifi_speed_UK LIMIT 1' \n",
    "cur.execute(query)"
   ]
  },
  {
   "cell_type": "markdown",
   "id": "6041c619",
   "metadata": {},
   "source": [
    "#### El nombre de las columnas de la tabla se almacena en el campo description del cursor."
   ]
  },
  {
   "cell_type": "code",
   "execution_count": 8,
   "id": "a0156ba7",
   "metadata": {},
   "outputs": [
    {
     "data": {
      "text/plain": [
       "(('E07000223_p', None, None, None, None, None, None),\n",
       " ('E07000026_p', None, None, None, None, None, None),\n",
       " ('E07000032_p', None, None, None, None, None, None),\n",
       " ('E07000224_p', None, None, None, None, None, None),\n",
       " ('E07000170_p', None, None, None, None, None, None),\n",
       " ('E07000105_p', None, None, None, None, None, None),\n",
       " ('E07000004_p', None, None, None, None, None, None),\n",
       " ('E07000200_p', None, None, None, None, None, None),\n",
       " ('E09000002_p', None, None, None, None, None, None),\n",
       " ('E09000003_p', None, None, None, None, None, None))"
      ]
     },
     "execution_count": 8,
     "metadata": {},
     "output_type": "execute_result"
    }
   ],
   "source": [
    "# Code Cell 11\n",
    "#visualizing the first 10 rows of the field description\n",
    "cur.description[:10]"
   ]
  },
  {
   "cell_type": "markdown",
   "id": "a9779f7f",
   "metadata": {},
   "source": [
    "##### Podemos dar vuelta los miembros de este campo e ingresar los nombres de las columnas en una lista (una estructura de datos práctica, en este caso). En Python, es posible generar listas como el resultado de un bucle. Este concepto se denomina comprensión de la lista y es sólo otro nombre para un bucle más largo. Cada elemento de la lista de resultados es la operación que haría en el bucle, mientras itera sobre cierto conjunto."
   ]
  },
  {
   "cell_type": "code",
   "execution_count": 9,
   "id": "7a9d8179",
   "metadata": {},
   "outputs": [],
   "source": [
    "# Code Cell 12\n",
    "# loop over the header and store them in a list\n",
    "columns = [member[0] for member in cur.description]\n",
    "\n",
    "# ignore index column\n",
    "columns = columns[1:]"
   ]
  },
  {
   "cell_type": "markdown",
   "id": "74b10c07",
   "metadata": {},
   "source": [
    "##### Las columnas contienen las mediciones de las tres velocidades para cada área geográfica. Se establecen de esta manera:\n",
    "\n",
    "<area name>_<suffix>,\n",
    "\n",
    " El sufijo es p para ping, u para carga y d para descarga.\n",
    "\n",
    "Necesitamos librarnos de los sufijos, porque estamos interesados en los nombres del área, y de momento cada nombre se repite tres veces. Utilizaremos el nombre de las áreas para mostrar las distintas mediciones y para generar una nueva tabla más adelante en la práctica de laboratorio.\n",
    "\n",
    "Podemos reemplazar la parte final de la cadena mediante un carácter vacío. Para hacerlo, podemos utilizar el método replace() (consulte la documentación de la cadena, https://docs.python.org/2/library/string.html (https://docs.python.org/2/library/string.html)). Este método toma como entrada la parte de la cadena que se reemplazará y la nueva parte de la cadena que debe reemplazar. Por ejemplo, para quitar los caracteres e y s de la cadena 'chestnut', utilice este código:\n",
    "'chestnut'.replace('es', '')\n",
    "   \n",
    "\n"
   ]
  },
  {
   "cell_type": "markdown",
   "id": "87671456",
   "metadata": {},
   "source": [
    "#### a)\tObtenga los nombres de área.\n",
    "\n",
    "Utilice la comprensión de lista para dar vuelta la lista que contiene los nombres de las columnas de la tabla y quite los sufijos \"_p\", \"_d\" y \"_u\"."
   ]
  },
  {
   "cell_type": "code",
   "execution_count": 10,
   "id": "25c61a03",
   "metadata": {},
   "outputs": [],
   "source": [
    "# Code Cell 13\n",
    "# remove suffix '_p'\n",
    "columns = [c.replace('_p', '') for c in columns]\n",
    "# remove suffix '_d'\n",
    "columns = [c.replace('_d', '') for c in columns]\n",
    "# remove suffix '_u' # columns = ??\n",
    "columns = [c.replace('_u', '') for c in columns]\n",
    "\n",
    "\n",
    "# this operation is to remove duplicates\n",
    "columns = list(set(columns))"
   ]
  },
  {
   "cell_type": "code",
   "execution_count": 11,
   "id": "4d1074b9",
   "metadata": {},
   "outputs": [
    {
     "data": {
      "text/plain": [
       "['E07000153',\n",
       " 'E09000033',\n",
       " 'E07000187',\n",
       " 'E06000044',\n",
       " 'E07000219',\n",
       " 'E09000031',\n",
       " 'E08000012',\n",
       " 'E07000211',\n",
       " 'E06000006',\n",
       " 'E07000040']"
      ]
     },
     "execution_count": 11,
     "metadata": {},
     "output_type": "execute_result"
    }
   ],
   "source": [
    "# Code Cell 14\n",
    "# visualize the first 10 areas\n",
    "columns[:10]"
   ]
  },
  {
   "cell_type": "markdown",
   "id": "8ad43a18",
   "metadata": {},
   "source": [
    "##### Para comprender mejor los datos en la base de datos es preciso visualizar una parte de ellos. En particular, queremos seleccionar las tres estadísticas de un área. En primer lugar, escojamos la primer área que tenemos en el conjunto de datos:"
   ]
  },
  {
   "cell_type": "code",
   "execution_count": 12,
   "id": "cb18aee5",
   "metadata": {},
   "outputs": [
    {
     "name": "stdout",
     "output_type": "stream",
     "text": [
      "E07000153\n"
     ]
    }
   ],
   "source": [
    "# Code Cell 15\n",
    "area = columns[0] \n",
    "print (area)\n"
   ]
  },
  {
   "cell_type": "markdown",
   "id": "e715be9d",
   "metadata": {},
   "source": [
    "##### Ahora queremos mostrar los datos en relación con el área E07000101. Necesitamos seleccionar las columnas que contienen las tres mediciones para esta área. Para hacerlo, es necesario manipular las cadenas nuevamente.\n",
    "\n",
    "##### Una forma de formatear una cadena es:\n",
    "\n",
    "'We are considering {} area and {} statistics'.format(1, 3) We are considering 1 area and 3 statistics\n",
    "\n",
    "##### Debemos agregar los sufijos de nuevo para obtener los nombres de columna correctos. Lo primero que debemos hacer es crear un diccionario que asocie el nombre completo de la medición al sufijo. También será útil escribir una leyenda significativa en el diagrama.\n"
   ]
  },
  {
   "cell_type": "code",
   "execution_count": 14,
   "id": "d7611fee",
   "metadata": {},
   "outputs": [
    {
     "name": "stdout",
     "output_type": "stream",
     "text": [
      "dict_keys(['_p', '_d', '_u'])\n",
      "dict_values(['ping', 'download', 'upload'])\n"
     ]
    }
   ],
   "source": [
    "# Code Cell 16\n",
    "suffix = {'_p':'ping', '_d':'download', '_u':'upload'}\n",
    "# we have the suffixes as the keys of the dictionary\n",
    "print(suffix.keys())\n",
    "\n",
    "# we have the complete names as the values of the dictionary\n",
    "print(suffix.values())"
   ]
  },
  {
   "cell_type": "markdown",
   "id": "9733481c",
   "metadata": {},
   "source": [
    "##### Ahora el proceso es dar vuelta las claves del diccionario, escribir y ejecutar la consulta para seleccionar la medición en relación con nuestra área y trazarla usando este código:\n",
    "\n",
    "plt.plot(cur.fetchall(), label=suffix[s])\n",
    "\n",
    "\n",
    "El método fetchall() recupera todas las filas del resultado de consulta. El campo label se utilizará para producir la leyenda del diagrama. También podemos agregar un título al diagrama, mediante el método title().\n",
    "\n",
    "##### b)\tEscriba la consulta para seleccionar las columnas relevantes.\n"
   ]
  },
  {
   "cell_type": "code",
   "execution_count": 16,
   "id": "5a28beae",
   "metadata": {},
   "outputs": [
    {
     "ename": "TypeError",
     "evalue": "unhashable type: 'numpy.ndarray'",
     "output_type": "error",
     "traceback": [
      "\u001b[1;31m---------------------------------------------------------------------------\u001b[0m",
      "\u001b[1;31mTypeError\u001b[0m                                 Traceback (most recent call last)",
      "Input \u001b[1;32mIn [16]\u001b[0m, in \u001b[0;36m<cell line: 6>\u001b[1;34m()\u001b[0m\n\u001b[0;32m      7\u001b[0m     query \u001b[38;5;241m=\u001b[39m \u001b[38;5;124m'\u001b[39m\u001b[38;5;124mSELECT \u001b[39m\u001b[38;5;124m\"\u001b[39m\u001b[38;5;132;01m{}\u001b[39;00m\u001b[38;5;132;01m{}\u001b[39;00m\u001b[38;5;124m\"\u001b[39m\u001b[38;5;124m FROM LA_wifi_speed_UK ORDER BY DateTime\u001b[39m\u001b[38;5;124m'\u001b[39m\u001b[38;5;241m.\u001b[39mformat(area, s)\n\u001b[0;32m      8\u001b[0m     cur\u001b[38;5;241m.\u001b[39mexecute(query)\n\u001b[1;32m----> 9\u001b[0m     \u001b[43mplt\u001b[49m\u001b[38;5;241;43m.\u001b[39;49m\u001b[43mplot\u001b[49m\u001b[43m(\u001b[49m\u001b[43mcur\u001b[49m\u001b[38;5;241;43m.\u001b[39;49m\u001b[43mfetchall\u001b[49m\u001b[43m(\u001b[49m\u001b[43m)\u001b[49m\u001b[43m,\u001b[49m\u001b[43m \u001b[49m\u001b[43mlabel\u001b[49m\u001b[38;5;241;43m=\u001b[39;49m\u001b[43msuffix\u001b[49m\u001b[43m[\u001b[49m\u001b[43ms\u001b[49m\u001b[43m]\u001b[49m\u001b[43m)\u001b[49m \n\u001b[0;32m     10\u001b[0m plt\u001b[38;5;241m.\u001b[39mlegend()\n\u001b[0;32m     11\u001b[0m plt\u001b[38;5;241m.\u001b[39mtitle(area)\n",
      "File \u001b[1;32mC:\\ProgramData\\Anaconda3\\lib\\site-packages\\matplotlib\\pyplot.py:2757\u001b[0m, in \u001b[0;36mplot\u001b[1;34m(scalex, scaley, data, *args, **kwargs)\u001b[0m\n\u001b[0;32m   2755\u001b[0m \u001b[38;5;129m@_copy_docstring_and_deprecators\u001b[39m(Axes\u001b[38;5;241m.\u001b[39mplot)\n\u001b[0;32m   2756\u001b[0m \u001b[38;5;28;01mdef\u001b[39;00m \u001b[38;5;21mplot\u001b[39m(\u001b[38;5;241m*\u001b[39margs, scalex\u001b[38;5;241m=\u001b[39m\u001b[38;5;28;01mTrue\u001b[39;00m, scaley\u001b[38;5;241m=\u001b[39m\u001b[38;5;28;01mTrue\u001b[39;00m, data\u001b[38;5;241m=\u001b[39m\u001b[38;5;28;01mNone\u001b[39;00m, \u001b[38;5;241m*\u001b[39m\u001b[38;5;241m*\u001b[39mkwargs):\n\u001b[1;32m-> 2757\u001b[0m     \u001b[38;5;28;01mreturn\u001b[39;00m gca()\u001b[38;5;241m.\u001b[39mplot(\n\u001b[0;32m   2758\u001b[0m         \u001b[38;5;241m*\u001b[39margs, scalex\u001b[38;5;241m=\u001b[39mscalex, scaley\u001b[38;5;241m=\u001b[39mscaley,\n\u001b[0;32m   2759\u001b[0m         \u001b[38;5;241m*\u001b[39m\u001b[38;5;241m*\u001b[39m({\u001b[38;5;124m\"\u001b[39m\u001b[38;5;124mdata\u001b[39m\u001b[38;5;124m\"\u001b[39m: data} \u001b[38;5;28;01mif\u001b[39;00m data \u001b[38;5;129;01mis\u001b[39;00m \u001b[38;5;129;01mnot\u001b[39;00m \u001b[38;5;28;01mNone\u001b[39;00m \u001b[38;5;28;01melse\u001b[39;00m {}), \u001b[38;5;241m*\u001b[39m\u001b[38;5;241m*\u001b[39mkwargs)\n",
      "File \u001b[1;32mC:\\ProgramData\\Anaconda3\\lib\\site-packages\\matplotlib\\axes\\_axes.py:1632\u001b[0m, in \u001b[0;36mAxes.plot\u001b[1;34m(self, scalex, scaley, data, *args, **kwargs)\u001b[0m\n\u001b[0;32m   1390\u001b[0m \u001b[38;5;124;03m\"\"\"\u001b[39;00m\n\u001b[0;32m   1391\u001b[0m \u001b[38;5;124;03mPlot y versus x as lines and/or markers.\u001b[39;00m\n\u001b[0;32m   1392\u001b[0m \n\u001b[1;32m   (...)\u001b[0m\n\u001b[0;32m   1629\u001b[0m \u001b[38;5;124;03m(``'green'``) or hex strings (``'#008000'``).\u001b[39;00m\n\u001b[0;32m   1630\u001b[0m \u001b[38;5;124;03m\"\"\"\u001b[39;00m\n\u001b[0;32m   1631\u001b[0m kwargs \u001b[38;5;241m=\u001b[39m cbook\u001b[38;5;241m.\u001b[39mnormalize_kwargs(kwargs, mlines\u001b[38;5;241m.\u001b[39mLine2D)\n\u001b[1;32m-> 1632\u001b[0m lines \u001b[38;5;241m=\u001b[39m [\u001b[38;5;241m*\u001b[39m\u001b[38;5;28mself\u001b[39m\u001b[38;5;241m.\u001b[39m_get_lines(\u001b[38;5;241m*\u001b[39margs, data\u001b[38;5;241m=\u001b[39mdata, \u001b[38;5;241m*\u001b[39m\u001b[38;5;241m*\u001b[39mkwargs)]\n\u001b[0;32m   1633\u001b[0m \u001b[38;5;28;01mfor\u001b[39;00m line \u001b[38;5;129;01min\u001b[39;00m lines:\n\u001b[0;32m   1634\u001b[0m     \u001b[38;5;28mself\u001b[39m\u001b[38;5;241m.\u001b[39madd_line(line)\n",
      "File \u001b[1;32mC:\\ProgramData\\Anaconda3\\lib\\site-packages\\matplotlib\\axes\\_base.py:312\u001b[0m, in \u001b[0;36m_process_plot_var_args.__call__\u001b[1;34m(self, data, *args, **kwargs)\u001b[0m\n\u001b[0;32m    310\u001b[0m     this \u001b[38;5;241m+\u001b[39m\u001b[38;5;241m=\u001b[39m args[\u001b[38;5;241m0\u001b[39m],\n\u001b[0;32m    311\u001b[0m     args \u001b[38;5;241m=\u001b[39m args[\u001b[38;5;241m1\u001b[39m:]\n\u001b[1;32m--> 312\u001b[0m \u001b[38;5;28;01myield from\u001b[39;00m \u001b[38;5;28;43mself\u001b[39;49m\u001b[38;5;241;43m.\u001b[39;49m\u001b[43m_plot_args\u001b[49m\u001b[43m(\u001b[49m\u001b[43mthis\u001b[49m\u001b[43m,\u001b[49m\u001b[43m \u001b[49m\u001b[43mkwargs\u001b[49m\u001b[43m)\u001b[49m\n",
      "File \u001b[1;32mC:\\ProgramData\\Anaconda3\\lib\\site-packages\\matplotlib\\axes\\_base.py:495\u001b[0m, in \u001b[0;36m_process_plot_var_args._plot_args\u001b[1;34m(self, tup, kwargs, return_kwargs)\u001b[0m\n\u001b[0;32m    493\u001b[0m     \u001b[38;5;28mself\u001b[39m\u001b[38;5;241m.\u001b[39maxes\u001b[38;5;241m.\u001b[39mxaxis\u001b[38;5;241m.\u001b[39mupdate_units(x)\n\u001b[0;32m    494\u001b[0m \u001b[38;5;28;01mif\u001b[39;00m \u001b[38;5;28mself\u001b[39m\u001b[38;5;241m.\u001b[39maxes\u001b[38;5;241m.\u001b[39myaxis \u001b[38;5;129;01mis\u001b[39;00m \u001b[38;5;129;01mnot\u001b[39;00m \u001b[38;5;28;01mNone\u001b[39;00m:\n\u001b[1;32m--> 495\u001b[0m     \u001b[38;5;28;43mself\u001b[39;49m\u001b[38;5;241;43m.\u001b[39;49m\u001b[43maxes\u001b[49m\u001b[38;5;241;43m.\u001b[39;49m\u001b[43myaxis\u001b[49m\u001b[38;5;241;43m.\u001b[39;49m\u001b[43mupdate_units\u001b[49m\u001b[43m(\u001b[49m\u001b[43my\u001b[49m\u001b[43m)\u001b[49m\n\u001b[0;32m    497\u001b[0m \u001b[38;5;28;01mif\u001b[39;00m x\u001b[38;5;241m.\u001b[39mshape[\u001b[38;5;241m0\u001b[39m] \u001b[38;5;241m!=\u001b[39m y\u001b[38;5;241m.\u001b[39mshape[\u001b[38;5;241m0\u001b[39m]:\n\u001b[0;32m    498\u001b[0m     \u001b[38;5;28;01mraise\u001b[39;00m \u001b[38;5;167;01mValueError\u001b[39;00m(\u001b[38;5;124mf\u001b[39m\u001b[38;5;124m\"\u001b[39m\u001b[38;5;124mx and y must have same first dimension, but \u001b[39m\u001b[38;5;124m\"\u001b[39m\n\u001b[0;32m    499\u001b[0m                      \u001b[38;5;124mf\u001b[39m\u001b[38;5;124m\"\u001b[39m\u001b[38;5;124mhave shapes \u001b[39m\u001b[38;5;132;01m{\u001b[39;00mx\u001b[38;5;241m.\u001b[39mshape\u001b[38;5;132;01m}\u001b[39;00m\u001b[38;5;124m and \u001b[39m\u001b[38;5;132;01m{\u001b[39;00my\u001b[38;5;241m.\u001b[39mshape\u001b[38;5;132;01m}\u001b[39;00m\u001b[38;5;124m\"\u001b[39m)\n",
      "File \u001b[1;32mC:\\ProgramData\\Anaconda3\\lib\\site-packages\\matplotlib\\axis.py:1449\u001b[0m, in \u001b[0;36mAxis.update_units\u001b[1;34m(self, data)\u001b[0m\n\u001b[0;32m   1447\u001b[0m neednew \u001b[38;5;241m=\u001b[39m \u001b[38;5;28mself\u001b[39m\u001b[38;5;241m.\u001b[39mconverter \u001b[38;5;241m!=\u001b[39m converter\n\u001b[0;32m   1448\u001b[0m \u001b[38;5;28mself\u001b[39m\u001b[38;5;241m.\u001b[39mconverter \u001b[38;5;241m=\u001b[39m converter\n\u001b[1;32m-> 1449\u001b[0m default \u001b[38;5;241m=\u001b[39m \u001b[38;5;28;43mself\u001b[39;49m\u001b[38;5;241;43m.\u001b[39;49m\u001b[43mconverter\u001b[49m\u001b[38;5;241;43m.\u001b[39;49m\u001b[43mdefault_units\u001b[49m\u001b[43m(\u001b[49m\u001b[43mdata\u001b[49m\u001b[43m,\u001b[49m\u001b[43m \u001b[49m\u001b[38;5;28;43mself\u001b[39;49m\u001b[43m)\u001b[49m\n\u001b[0;32m   1450\u001b[0m \u001b[38;5;28;01mif\u001b[39;00m default \u001b[38;5;129;01mis\u001b[39;00m \u001b[38;5;129;01mnot\u001b[39;00m \u001b[38;5;28;01mNone\u001b[39;00m \u001b[38;5;129;01mand\u001b[39;00m \u001b[38;5;28mself\u001b[39m\u001b[38;5;241m.\u001b[39munits \u001b[38;5;129;01mis\u001b[39;00m \u001b[38;5;28;01mNone\u001b[39;00m:\n\u001b[0;32m   1451\u001b[0m     \u001b[38;5;28mself\u001b[39m\u001b[38;5;241m.\u001b[39mset_units(default)\n",
      "File \u001b[1;32mC:\\ProgramData\\Anaconda3\\lib\\site-packages\\matplotlib\\category.py:116\u001b[0m, in \u001b[0;36mStrCategoryConverter.default_units\u001b[1;34m(data, axis)\u001b[0m\n\u001b[0;32m    114\u001b[0m \u001b[38;5;66;03m# the conversion call stack is default_units -> axis_info -> convert\u001b[39;00m\n\u001b[0;32m    115\u001b[0m \u001b[38;5;28;01mif\u001b[39;00m axis\u001b[38;5;241m.\u001b[39munits \u001b[38;5;129;01mis\u001b[39;00m \u001b[38;5;28;01mNone\u001b[39;00m:\n\u001b[1;32m--> 116\u001b[0m     axis\u001b[38;5;241m.\u001b[39mset_units(\u001b[43mUnitData\u001b[49m\u001b[43m(\u001b[49m\u001b[43mdata\u001b[49m\u001b[43m)\u001b[49m)\n\u001b[0;32m    117\u001b[0m \u001b[38;5;28;01melse\u001b[39;00m:\n\u001b[0;32m    118\u001b[0m     axis\u001b[38;5;241m.\u001b[39munits\u001b[38;5;241m.\u001b[39mupdate(data)\n",
      "File \u001b[1;32mC:\\ProgramData\\Anaconda3\\lib\\site-packages\\matplotlib\\category.py:192\u001b[0m, in \u001b[0;36mUnitData.__init__\u001b[1;34m(self, data)\u001b[0m\n\u001b[0;32m    190\u001b[0m \u001b[38;5;28mself\u001b[39m\u001b[38;5;241m.\u001b[39m_counter \u001b[38;5;241m=\u001b[39m itertools\u001b[38;5;241m.\u001b[39mcount()\n\u001b[0;32m    191\u001b[0m \u001b[38;5;28;01mif\u001b[39;00m data \u001b[38;5;129;01mis\u001b[39;00m \u001b[38;5;129;01mnot\u001b[39;00m \u001b[38;5;28;01mNone\u001b[39;00m:\n\u001b[1;32m--> 192\u001b[0m     \u001b[38;5;28;43mself\u001b[39;49m\u001b[38;5;241;43m.\u001b[39;49m\u001b[43mupdate\u001b[49m\u001b[43m(\u001b[49m\u001b[43mdata\u001b[49m\u001b[43m)\u001b[49m\n",
      "File \u001b[1;32mC:\\ProgramData\\Anaconda3\\lib\\site-packages\\matplotlib\\category.py:225\u001b[0m, in \u001b[0;36mUnitData.update\u001b[1;34m(self, data)\u001b[0m\n\u001b[0;32m    223\u001b[0m \u001b[38;5;66;03m# check if convertible to number:\u001b[39;00m\n\u001b[0;32m    224\u001b[0m convertible \u001b[38;5;241m=\u001b[39m \u001b[38;5;28;01mTrue\u001b[39;00m\n\u001b[1;32m--> 225\u001b[0m \u001b[38;5;28;01mfor\u001b[39;00m val \u001b[38;5;129;01min\u001b[39;00m \u001b[43mOrderedDict\u001b[49m\u001b[38;5;241;43m.\u001b[39;49m\u001b[43mfromkeys\u001b[49m\u001b[43m(\u001b[49m\u001b[43mdata\u001b[49m\u001b[43m)\u001b[49m:\n\u001b[0;32m    226\u001b[0m     \u001b[38;5;66;03m# OrderedDict just iterates over unique values in data.\u001b[39;00m\n\u001b[0;32m    227\u001b[0m     _api\u001b[38;5;241m.\u001b[39mcheck_isinstance((\u001b[38;5;28mstr\u001b[39m, \u001b[38;5;28mbytes\u001b[39m), value\u001b[38;5;241m=\u001b[39mval)\n\u001b[0;32m    228\u001b[0m     \u001b[38;5;28;01mif\u001b[39;00m convertible:\n\u001b[0;32m    229\u001b[0m         \u001b[38;5;66;03m# this will only be called so long as convertible is True.\u001b[39;00m\n",
      "\u001b[1;31mTypeError\u001b[0m: unhashable type: 'numpy.ndarray'"
     ]
    },
    {
     "data": {
      "image/png": "[encoded data removed]",
      "text/plain": [
       "<Figure size 720x576 with 1 Axes>"
      ]
     },
     "metadata": {
      "needs_background": "light"
     },
     "output_type": "display_data"
    }
   ],
   "source": [
    "# Code Cell 17\n",
    "area = columns[0]\n",
    "plt.figure(figsize=(10, 8))\n",
    "\n",
    "# Plot each variable in suffix.keys() for each area\n",
    "for s in suffix.keys():\n",
    "    query = 'SELECT \"{}{}\" FROM LA_wifi_speed_UK ORDER BY DateTime'.format(area, s)\n",
    "    cur.execute(query)\n",
    "    plt.plot(cur.fetchall(), label=suffix[s]) \n",
    "plt.legend()\n",
    "plt.title(area)"
   ]
  },
  {
   "cell_type": "markdown",
   "id": "4976d66c",
   "metadata": {},
   "source": [
    "# Parte 3: Manipule los datos con pandas\n",
    "El objetivo es ahora calcular la velocidad promedio de WiFi para todas las áreas del conjunto de datos. Los pandas pueden ayudar en el almacenamiento y la visualización de los datos fácilmente.\n",
    "\n",
    "## Paso 1: Convierta todas las mediciones a promedios.\n",
    "\n",
    "Para cada autoridad local, queremos saber cuál era la velocidad promedio de Internet para el ping, la carga y la descarga en el período de tiempo en el que nuestros datos fueron recopilados. Los dataframes de pandas son útiles para este tipo de operaciones.\n",
    "\n",
    "#### a)\tCree un dataframe vacío con columnas específicas.\n"
   ]
  },
  {
   "cell_type": "code",
   "execution_count": 17,
   "id": "c8677c52",
   "metadata": {},
   "outputs": [],
   "source": [
    "# Code Cell 18\n",
    "new_columns = ['Area', 'Average_p', 'Average_u', 'Average_d']\n",
    "df = pd.DataFrame(columns = new_columns)"
   ]
  },
  {
   "cell_type": "markdown",
   "id": "3fde0bec",
   "metadata": {},
   "source": [
    "#### b)\tCalcule los promedios.\n",
    "\n",
    "Escriba la consulta SQL que computa el promedio de una columna y almacénela en una lista temporal. La lista será la fila nueva adjunta al dataframe. Esto tomará aproximadamente 1 minuto en el RaPi.\n"
   ]
  },
  {
   "cell_type": "code",
   "execution_count": 18,
   "id": "3663a8ab",
   "metadata": {},
   "outputs": [
    {
     "name": "stderr",
     "output_type": "stream",
     "text": [
      "C:\\Users\\yulis\\AppData\\Local\\Temp\\ipykernel_9952\\1156658711.py:14: FutureWarning: The frame.append method is deprecated and will be removed from pandas in a future version. Use pandas.concat instead.\n",
      "  df = df.append(pd.Series(tmp_list, index=new_columns), ignore_index=True)\n"
     ]
    },
    {
     "data": {
      "text/html": [
       "<div>\n",
       "<style scoped>\n",
       "    .dataframe tbody tr th:only-of-type {\n",
       "        vertical-align: middle;\n",
       "    }\n",
       "\n",
       "    .dataframe tbody tr th {\n",
       "        vertical-align: top;\n",
       "    }\n",
       "\n",
       "    .dataframe thead th {\n",
       "        text-align: right;\n",
       "    }\n",
       "</style>\n",
       "<table border=\"1\" class=\"dataframe\">\n",
       "  <thead>\n",
       "    <tr style=\"text-align: right;\">\n",
       "      <th></th>\n",
       "      <th>Area</th>\n",
       "      <th>Average_p</th>\n",
       "      <th>Average_u</th>\n",
       "      <th>Average_d</th>\n",
       "    </tr>\n",
       "  </thead>\n",
       "  <tbody>\n",
       "    <tr>\n",
       "      <th>0</th>\n",
       "      <td>E07000075</td>\n",
       "      <td>52.253158</td>\n",
       "      <td>21.235539</td>\n",
       "      <td>8.330263</td>\n",
       "    </tr>\n",
       "  </tbody>\n",
       "</table>\n",
       "</div>"
      ],
      "text/plain": [
       "        Area  Average_p  Average_u Average_d\n",
       "0  E07000075  52.253158  21.235539  8.330263"
      ]
     },
     "execution_count": 18,
     "metadata": {},
     "output_type": "execute_result"
    }
   ],
   "source": [
    "# Code Cell 19\n",
    "# this will take a while...\n",
    "for i in range(len(columns)-1): \n",
    "    tmp_list = []\n",
    "    tmp_list.append(columns[i])\n",
    "    for s in suffix.keys():\n",
    "        query = 'SELECT AVG(\"{}{}\") FROM LA_wifi_speed_UK'.format(columns[i], s)\n",
    "        \n",
    "        cur.execute(query)\n",
    "        \n",
    "        mean = cur.fetchone()\n",
    "        tmp_list.append(mean[0])\n",
    "    #append the columns to the empty DataFrame\n",
    "df = df.append(pd.Series(tmp_list, index=new_columns), ignore_index=True)\n",
    "# visualize the head of the dataframe here\n",
    "df.head()"
   ]
  },
  {
   "cell_type": "code",
   "execution_count": 94,
   "id": "e8f0141d",
   "metadata": {},
   "outputs": [
    {
     "data": {
      "text/plain": [
       "[<matplotlib.lines.Line2D at 0x2d20515bfa0>]"
      ]
     },
     "execution_count": 94,
     "metadata": {},
     "output_type": "execute_result"
    },
    {
     "data": {
      "image/png": "[encoded data removed]",
      "text/plain": [
       "<Figure size 1440x720 with 1 Axes>"
      ]
     },
     "metadata": {
      "needs_background": "light"
     },
     "output_type": "display_data"
    }
   ],
   "source": [
    "plt.figure(figsize=(20,10))\n",
    "plt.plot(df.index, df['Average_d'], 'o')\n",
    "plt.plot(df.index, df['Average_u'], 'o')\n",
    "plt.plot(df.index, df['Average_p'], 'o')\n"
   ]
  },
  {
   "cell_type": "markdown",
   "id": "c6e8b2ea",
   "metadata": {},
   "source": [
    "Ahora las velocidades promedio se almacenan en un dataframe de pandas. Podría resultar útil guardarlos en una tabla en nuestra base de datos, y los pandas ofrecen un método (to_sql()) para hacerlo En primer lugar, verifique si ya existe la tabla (esto puede crear problemas). Si existe, queremos descartarla y luego crearla. Si no, la crearemos directamente.\n",
    "\n",
    "El constructo try... except capturará la excepción elevada en caso de que la tabla no exista y procederá a su creación (para obtener ayuda, consulte la Sección 8.3 de https://docs.python.org/2.7/tutorial/errors.html (https://docs.python.org/2.7/tutorial/errors.html)).\n",
    "\n",
    "#### a)\tGuarde el trabajo.\n",
    "\n",
    "Guarde el nuevo dataframe en una tabla de la base de datos InternetSpeed.\n"
   ]
  },
  {
   "cell_type": "code",
   "execution_count": 19,
   "id": "94c7bdbd",
   "metadata": {},
   "outputs": [
    {
     "data": {
      "text/plain": [
       "1"
      ]
     },
     "execution_count": 19,
     "metadata": {},
     "output_type": "execute_result"
    }
   ],
   "source": [
    "# Code Cell 21\n",
    "# Make sure to drop the table first if it already exists\n",
    "try:\n",
    "    cur.execute('DROP TABLE average_speed')\n",
    "except:\n",
    "    pass\n",
    "\n",
    "# what is the name of the table you want to save? To what connection? # Save the dataframe table into a SQL table\n",
    "df.to_sql('average_speed',conn)"
   ]
  },
  {
   "cell_type": "code",
   "execution_count": 20,
   "id": "ebaf0c0d",
   "metadata": {},
   "outputs": [
    {
     "name": "stdout",
     "output_type": "stream",
     "text": [
      "(0, 'E07000075', 52.25315780178543, 21.235538605208998, 8.330262907258785)\n",
      "None\n"
     ]
    }
   ],
   "source": [
    "# Code Cell 22\n",
    "# just checking everything worked fine: select everything from the table we ju st created\n",
    "# and then print the first two rows of the result\n",
    "\n",
    "query_2 = 'SELECT * FROM average_speed' \n",
    "cur.execute(query_2)\n",
    "\n",
    "# print the first fetched record\n",
    "print(cur.fetchone())\n",
    "# print the next fetched record\n",
    "print(cur.fetchone())\n"
   ]
  },
  {
   "cell_type": "markdown",
   "id": "886f428d",
   "metadata": {},
   "source": [
    "## Parte 4: Una las tablas con pandas\n",
    "Para comprender por qué y cómo cambia la velocidad promedio de Internet alrededor de las áreas, es necesario obtener más información sobre ellas. En particular, estamos interesados en los datos demográficos, para ver si un área con mucha población tiene un servicio de Internet mejor o peor.\n",
    "\n",
    "### Paso 1: Obtenga información relevante.\n",
    "\n",
    "Esta información se puede encontrar en este archivo:\n",
    "\n",
    "./Data/LA_population.csv\n",
    "\n",
    "\n",
    "Aquí, LA significa autoridad local, en lugar de Los Ángeles. Queremos unir la información contenida en este archivo con la velocidad promedio computada anteriormente. Primero, haga una nueva tabla y guarde estos datos en la base de datos InternetSpeed.\n",
    "\n",
    "#### a)\tCree la tabla de la población.\n",
    "\n",
    "Con csvsql, importe el archivo LA_population.csv a la base de datos InternetSpeed. Repita los pasos realizados para crear las otras tablas en la base de datos.\n"
   ]
  },
  {
   "cell_type": "code",
   "execution_count": 21,
   "id": "e673f38c",
   "metadata": {},
   "outputs": [],
   "source": [
    "# Code Cell 23\n",
    "#first close the database file, otherwise the external csvsql command cannot u se\n",
    "conn.close()"
   ]
  },
  {
   "cell_type": "code",
   "execution_count": 105,
   "id": "7f80ec2d",
   "metadata": {},
   "outputs": [],
   "source": [
    "# Code Cell 24\n",
    "# use the external csvsql command to add to the DB file data from the CSV file #!csvsql --db sqlite:///...\n",
    "\n",
    "# Las capturas para importar estan abajo"
   ]
  },
  {
   "cell_type": "code",
   "execution_count": 22,
   "id": "252c471b",
   "metadata": {},
   "outputs": [],
   "source": [
    "# Code Cell 25\n",
    "#reopen the DB file\n",
    "conn = sqlite3.connect('InternetSpeed.db')\n",
    "\n",
    "cur = conn.cursor()\n"
   ]
  },
  {
   "cell_type": "markdown",
   "id": "17b48903",
   "metadata": {},
   "source": [
    "#### b)\tCompruebe que todo haya funcionado.\n",
    "\n",
    "Para comprobar que todo haya funcionado y tener una idea de qué hay dentro de esta nueva tabla, seleccione las primeras 10 filas e imprímalas.\n"
   ]
  },
  {
   "cell_type": "code",
   "execution_count": 29,
   "id": "efcf110e",
   "metadata": {},
   "outputs": [
    {
     "name": "stdout",
     "output_type": "stream",
     "text": [
      "('Aberdeen City', 'S12000033', '222793')\n",
      "('Aberdeenshire', 'S12000034', '252973')\n",
      "('Adur', 'E07000223', '61182')\n",
      "('Allerdale', 'E07000026', '96422')\n",
      "('Amber Valley', 'E07000032', '122309')\n",
      "('Angus', 'S12000041', '115978')\n",
      "('Antrim and Newtownabbey', 'N09000001', '138567')\n",
      "('Ards and North Down', 'N09000011', '156672')\n",
      "('Argyll and Bute', 'S12000035', '88166')\n",
      "('Armagh City, Banbridge and Craigavon', 'N09000002', '199693')\n"
     ]
    }
   ],
   "source": [
    "# Code Cell 26 #query = ?\n",
    "query = 'SELECT * FROM LA_population LIMIT 10'\n",
    "\n",
    "cur.execute(query)\n",
    "\n",
    "\n",
    "for row in cur:\n",
    "    # print the first fetched record\n",
    "    print(row)\n"
   ]
  },
  {
   "cell_type": "markdown",
   "id": "7d0e9063",
   "metadata": {},
   "source": [
    "Podemos unir las dos tablas para tener toda la información necesaria. La idea es que las dos tablas tengan un campo en común, el nombre del área. Esta es la clave sobre la que queremos unir. Esto significa que queremos una nueva tabla que tenga una fila para cada nombre de área que contenga información de velocidad promedio e información geográfica. La forma en que SQL lo hace es comparar fila por fila, y fusionar las filas con el mismo valor para la clave (es decir, el mismo nombre de área).\n",
    "\n",
    "#### c)\tEjecute la consulta UNIR e imprima las primeras 10 filas del resultado.\n"
   ]
  },
  {
   "cell_type": "code",
   "execution_count": 38,
   "id": "450b0a32",
   "metadata": {},
   "outputs": [
    {
     "name": "stdout",
     "output_type": "stream",
     "text": [
      "(0, 'E07000075', 52.25315780178543, 21.235538605208998, 8.330262907258785, 'Rochford', 'E07000075', '83287')\n"
     ]
    }
   ],
   "source": [
    "# Code Cell 27\n",
    "query = 'SELECT * FROM average_speed JOIN LA_population ON LA_population.\"LA_code\"=average_speed.Area'\n",
    "\n",
    "cur.execute(query)\n",
    "k = 0\n",
    "for row in cur:\n",
    "    if k>10:\n",
    "        break\n",
    "    print (row)\n",
    "    \n",
    "    k+=1"
   ]
  },
  {
   "cell_type": "markdown",
   "id": "a295a50c",
   "metadata": {},
   "source": [
    "![fondo](imports.png)"
   ]
  },
  {
   "cell_type": "code",
   "execution_count": null,
   "id": "2ccd4438",
   "metadata": {},
   "outputs": [],
   "source": []
  }
 ],
 "metadata": {
  "kernelspec": {
   "display_name": "Python 3 (ipykernel)",
   "language": "python",
   "name": "python3"
  },
  "language_info": {
   "codemirror_mode": {
    "name": "ipython",
    "version": 3
   },
   "file_extension": ".py",
   "mimetype": "text/x-python",
   "name": "python",
   "nbconvert_exporter": "python",
   "pygments_lexer": "ipython3",
   "version": "3.9.12"
  }
 },
 "nbformat": 4,
 "nbformat_minor": 5
}
