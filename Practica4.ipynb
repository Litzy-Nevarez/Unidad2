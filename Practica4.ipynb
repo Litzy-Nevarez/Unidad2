{
 "cells": [
  {
   "cell_type": "markdown",
   "id": "0e3c7860",
   "metadata": {},
   "source": [
    "# Práctica 4\n",
    "## Parte 3: Automatice el proceso con Python\n",
    "### Utilice Python para conectarse a la base de datos y ejecutar algunas consultas para saber cómo lucen estos datos.\n",
    "\n",
    "#### Nevarez García Litzy Yulissa"
   ]
  },
  {
   "cell_type": "markdown",
   "id": "d6e962b3",
   "metadata": {},
   "source": [
    "A continuación se detallan las líneas de código para importar los módulos requeridos de Python:"
   ]
  },
  {
   "cell_type": "code",
   "execution_count": 10,
   "id": "0ff99d78",
   "metadata": {},
   "outputs": [],
   "source": [
    "# this is the library to talk to the database\n",
    "import sqlite3\n",
    "import pandas as pd\n",
    "# this is a library for data visualization\n",
    "from matplotlib import pyplot as plt\n",
    "# this is to say that we want our plots to be part of this page, and not opened in a new window\n",
    "%matplotlib inline\n"
   ]
  },
  {
   "cell_type": "markdown",
   "id": "6b7d8f42",
   "metadata": {},
   "source": [
    "Paso 2: Conéctese a la base de datos"
   ]
  },
  {
   "cell_type": "code",
   "execution_count": 14,
   "id": "e81b93e2",
   "metadata": {},
   "outputs": [],
   "source": [
    "conn = sqlite3.connect('c:\\windows\\system32\\phonebook.db')"
   ]
  },
  {
   "cell_type": "code",
   "execution_count": 15,
   "id": "ab223673",
   "metadata": {},
   "outputs": [],
   "source": [
    "cur = conn.cursor()"
   ]
  },
  {
   "cell_type": "markdown",
   "id": "73a0875a",
   "metadata": {},
   "source": [
    "Paso 3: Ejecute una consulta."
   ]
  },
  {
   "cell_type": "code",
   "execution_count": 19,
   "id": "2f4e489f",
   "metadata": {},
   "outputs": [
    {
     "data": {
      "text/plain": [
       "<sqlite3.Cursor at 0x1b1fda293b0>"
      ]
     },
     "execution_count": 19,
     "metadata": {},
     "output_type": "execute_result"
    }
   ],
   "source": [
    "query = \"SELECT name FROM coworkers;\"\n",
    "cur.execute(query)"
   ]
  },
  {
   "cell_type": "code",
   "execution_count": 26,
   "id": "3fa89ea5",
   "metadata": {},
   "outputs": [
    {
     "name": "stdout",
     "output_type": "stream",
     "text": [
      "('101', 'Han Solo', 'Bounty Hunter', '5556667578')\n",
      "('102', 'Leia Skywalker', 'Princess', '5556542398')\n",
      "('103', 'Luke Skywalker', 'Jedi', '5558963267')\n",
      "('104', 'Obi-Wan Kenobi', 'Jedi', '5558963276')\n",
      "('105', 'Anakin Skywalker', 'Sith Lord', '5553477621')\n",
      "('106', 'Jabba The Hutt', 'Gangster', '5556613456')\n",
      "('107', 'Greedo', 'Debt Collector', '5552360918')\n",
      "('108', 'R2D2', 'Astro Droid', '5555210125')\n",
      "('109', 'C3PO', 'Protocol Droid', '5556633345')\n"
     ]
    }
   ],
   "source": [
    "cur.execute(\"SELECT * FROM coworkers;\")\n",
    "coworkers = cur.fetchall()\n",
    "# Ahora podemos recorrer todos los coworkers\n",
    "for coworkers in coworkers:\n",
    "    print(coworkers)\n"
   ]
  },
  {
   "cell_type": "markdown",
   "id": "2ecd3859",
   "metadata": {},
   "source": [
    "Desafío\n",
    "1) Proporcione el código para consultar los nombres de todas las princesas."
   ]
  },
  {
   "cell_type": "code",
   "execution_count": 27,
   "id": "f8029f4b",
   "metadata": {},
   "outputs": [
    {
     "name": "stdout",
     "output_type": "stream",
     "text": [
      "('Leia Skywalker',)\n"
     ]
    }
   ],
   "source": [
    "cur.execute(\"SELECT name FROM coworkers where title='Princess';\")\n",
    "princesas = cur.fetchall()\n",
    "for princesas in princesas:\n",
    "    print(princesas)"
   ]
  },
  {
   "cell_type": "markdown",
   "id": "9261843b",
   "metadata": {},
   "source": [
    "2) Proporcione el código para consultar los nombres de todas las princesas y los recaudadores."
   ]
  },
  {
   "cell_type": "code",
   "execution_count": 52,
   "id": "7a8e1b60",
   "metadata": {},
   "outputs": [],
   "source": [
    "cur.execute(\"SELECT name FROM coworkers where title='Princess' AND title='Debt Collector';\")\n",
    "consulta2 = cur.fetchall()\n",
    "for consulta2 in consulta2:\n",
    "    print(personas)"
   ]
  },
  {
   "cell_type": "markdown",
   "id": "37ff91f1",
   "metadata": {},
   "source": [
    "3) Proporcione el código para consultar los nombres y los números de todos los Jedi."
   ]
  },
  {
   "cell_type": "code",
   "execution_count": 35,
   "id": "1333c3c7",
   "metadata": {},
   "outputs": [
    {
     "name": "stdout",
     "output_type": "stream",
     "text": [
      "('Luke Skywalker', '5558963267')\n",
      "('Obi-Wan Kenobi', '5558963276')\n"
     ]
    }
   ],
   "source": [
    "cur.execute(\"SELECT name, number FROM coworkers where title='Jedi';\")\n",
    "personas2 = cur.fetchall()\n",
    "for personas2 in personas2:\n",
    "    print(personas2)"
   ]
  },
  {
   "cell_type": "markdown",
   "id": "6e2fb753",
   "metadata": {},
   "source": [
    "4) Proporcione el código para consultar los nombres de los droids."
   ]
  },
  {
   "cell_type": "code",
   "execution_count": 40,
   "id": "94bea1e1",
   "metadata": {},
   "outputs": [
    {
     "name": "stdout",
     "output_type": "stream",
     "text": [
      "('R2D2',)\n",
      "('C3PO',)\n"
     ]
    }
   ],
   "source": [
    "cur.execute(\"SELECT name FROM coworkers where title LIKE '%Droid%';\")\n",
    "personas3 = cur.fetchall()\n",
    "for personas3 in personas3:\n",
    "    print(personas3)"
   ]
  },
  {
   "cell_type": "code",
   "execution_count": null,
   "id": "2b1a66f3",
   "metadata": {},
   "outputs": [],
   "source": []
  }
 ],
 "metadata": {
  "kernelspec": {
   "display_name": "Python 3 (ipykernel)",
   "language": "python",
   "name": "python3"
  },
  "language_info": {
   "codemirror_mode": {
    "name": "ipython",
    "version": 3
   },
   "file_extension": ".py",
   "mimetype": "text/x-python",
   "name": "python",
   "nbconvert_exporter": "python",
   "pygments_lexer": "ipython3",
   "version": "3.9.12"
  }
 },
 "nbformat": 4,
 "nbformat_minor": 5
}
